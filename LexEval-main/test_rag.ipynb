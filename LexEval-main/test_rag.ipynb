{
 "cells": [
  {
   "cell_type": "code",
   "execution_count": 1,
   "metadata": {},
   "outputs": [
    {
     "name": "stdout",
     "output_type": "stream",
     "text": [
      "Allocated: 0.00 MB\n",
      "Cached: 0.00 MB\n"
     ]
    },
    {
     "name": "stderr",
     "output_type": "stream",
     "text": [
      "/vol/bitbucket/lst20/lex-eval/lib/python3.12/site-packages/torch/distributed/distributed_c10d.py:359: UserWarning: torch.distributed.reduce_op is deprecated, please use torch.distributed.ReduceOp instead\n",
      "  warnings.warn(\n"
     ]
    },
    {
     "name": "stdout",
     "output_type": "stream",
     "text": [
      "Allocated: 0.00 MB\n",
      "Cached: 0.00 MB\n"
     ]
    }
   ],
   "source": [
    "import torch\n",
    "import gc\n",
    "\n",
    "def clear_gpu_memory():\n",
    "    # Empty the cache\n",
    "    torch.cuda.empty_cache()\n",
    "    \n",
    "    # Clear any leftover tensors\n",
    "    for obj in gc.get_objects():\n",
    "        try:\n",
    "            if torch.is_tensor(obj):\n",
    "                if obj.is_cuda:\n",
    "                    del obj\n",
    "        except Exception:\n",
    "            pass\n",
    "    \n",
    "    # Run garbage collector\n",
    "    gc.collect()\n",
    "    \n",
    "    # Force CUDA to synchronize\n",
    "    torch.cuda.synchronize()\n",
    "\n",
    "# Example usage:\n",
    "def check_memory():\n",
    "    print(f\"Allocated: {torch.cuda.memory_allocated() / 1024**2:.2f} MB\")\n",
    "    print(f\"Cached: {torch.cuda.memory_reserved() / 1024**2:.2f} MB\")\n",
    "\n",
    "check_memory()\n",
    "clear_gpu_memory()\n",
    "check_memory()"
   ]
  },
  {
   "cell_type": "code",
   "execution_count": 2,
   "metadata": {},
   "outputs": [],
   "source": [
    "from model.engine import GemmaAdapter\n",
    "from adapters.SemanticAdapter import SemanticAdapter"
   ]
  },
  {
   "cell_type": "code",
   "execution_count": 3,
   "metadata": {},
   "outputs": [
    {
     "data": {
      "application/vnd.jupyter.widget-view+json": {
       "model_id": "3b04bddac17f4baf9bb0dc60d7c1640a",
       "version_major": 2,
       "version_minor": 0
      },
      "text/plain": [
       "Loading checkpoint shards:   0%|          | 0/4 [00:00<?, ?it/s]"
      ]
     },
     "metadata": {},
     "output_type": "display_data"
    }
   ],
   "source": [
    "modelId =\"google/gemma-2-9b-it\"\n",
    "model = GemmaAdapter(modelId)"
   ]
  },
  {
   "cell_type": "code",
   "execution_count": 7,
   "metadata": {},
   "outputs": [],
   "source": [
    "from adapters.rag import RAGAgent\n",
    "rag = RAGAgent(model)\n"
   ]
  },
  {
   "cell_type": "code",
   "execution_count": 17,
   "metadata": {},
   "outputs": [
    {
     "name": "stderr",
     "output_type": "stream",
     "text": [
      "/vol/bitbucket/lst20/lex-eval/lib/python3.12/site-packages/wikipedia/wikipedia.py:389: GuessedAtParserWarning: No parser was explicitly specified, so I'm using the best available HTML parser for this system (\"html.parser\"). This usually isn't a problem, but if you run this code on another system, or in a different virtual environment, it may use a different parser and behave differently.\n",
      "\n",
      "The code that caused this warning is on line 389 of the file /vol/bitbucket/lst20/lex-eval/lib/python3.12/site-packages/wikipedia/wikipedia.py. To get rid of this warning, pass the additional argument 'features=\"html.parser\"' to the BeautifulSoup constructor.\n",
      "\n",
      "  lis = BeautifulSoup(html).find_all('li')\n"
     ]
    },
    {
     "data": {
      "text/plain": [
       "[({'title': 'Introduction to general relativity',\n",
       "   'content': 'General relativity is a theory of gravitation developed by Albert Einstein between 1907 and 1915. The theory of general relativity says that the observed gravitational effect between masses results from their warping of spacetime.\\nBy the beginning of the 20th century, Newton\\'s law of universal gravitation had been accepted for more than two hundred years as a valid description of the gravitational force between masses. In Newton\\'s model, gravity is the result of an attractive force between massive objects. Although even Newton was troubled by the unknown nature of that force, the basic framework was extremely successful at describing motion.\\nExperiments and observations show that Einstein\\'s description of gravitation accounts for several effects that are unexplained by Newton\\'s law, such as minute anomalies in the orbits of Mercury and other planets. General relativity also predicts novel effects of gravity, such as gravitational waves, gravitational lensing and an effect of gravity on time known as gravitational time dilation. Many of these predictions have been confirmed by experiment or observation, most recently gravitational waves.\\nGeneral relativity has developed into an essential tool in modern astrophysics. It provides the foundation for the current understanding of black holes, regions of space where the gravitational effect is strong enough that even light cannot escape. Their strong gravity is thought to be responsible for the intense radiation emitted by certain types of astronomical objects (such as active galactic nuclei or microquasars). General relativity is also part of the framework of the standard Big Bang model of cosmology.\\nAlthough general relativity is not the only relativistic theory of gravity, it is the simplest one that is consistent with the experimental data.  Nevertheless, a number of open questions remain, the most fundamental of which is how general relativity can be reconciled with the laws of quantum physics to produce a complete and self-consistent theory of quantum gravity.\\n\\n\\n== From special to general relativity ==\\nIn September 1905, Albert Einstein published his theory of special relativity, which reconciles Newton\\'s laws of motion with electrodynamics (the interaction between objects with electric charge).  Special relativity introduced a new framework for all of physics by proposing new concepts of space and time.  Some then-accepted physical theories were inconsistent with that framework; a key example was Newton\\'s theory of gravity, which describes the mutual attraction experienced by bodies due to their mass.\\nSeveral physicists, including Einstein, searched for a theory that would reconcile Newton\\'s law of gravity and special relativity.  Only Einstein\\'s theory proved to be consistent with experiments and observations. To understand the theory\\'s basic ideas, it is instructive to follow Einstein\\'s thinking between 1907 and 1915, from his simple thought experiment involving an observer in free fall to his fully geometric theory of gravity.\\n\\n\\n=== Equivalence principle ===\\n\\nA person in a free-falling elevator experiences weightlessness; objects either float motionless or drift at constant speed.  Since everything in the elevator is falling together, no gravitational effect can be observed.  In this way, the experiences of an observer in free fall are indistinguishable from those of an observer in deep space, far from any significant source of gravity.  Such observers are the privileged (\"inertial\") observers Einstein described in his theory of special relativity: observers for whom light travels along straight lines at constant speed.\\nEinstein hypothesized that the similar experiences of weightless observers and inertial observers in special relativity represented a fundamental property of gravity, and he made this the cornerstone of his theory of general relativity, formalized in his equivalence principle.  Roughly speaking, the principle states that a person in a free-falling elevator c',\n",
       "   'summary': \"General relativity is a theory of gravitation developed by Albert Einstein between 1907 and 1915. The theory of general relativity says that the observed gravitational effect between masses results from their warping of spacetime.\\nBy the beginning of the 20th century, Newton's law of universal gravitation had been accepted for more than two hundred years as a valid description of the gravitational force between masses. In Newton's model, gravity is the result of an attractive force between massive objects. Although even Newton was troubled by the unknown nature of that force, the basic framework was extremely successful at describing motion.\\nExperiments and observations show that Einstein's description of gravitation accounts for several effects that are unexplained by Newton's law, such as minute anomalies in the orbits of Mercury and other planets. General relativity also predicts novel effects of gravity, such as gravitational waves, gravitational lensing and an effect of gravity on time known as gravitational time dilation. Many of these predictions have been confirmed by experiment or observation, most recently gravitational waves.\\nGeneral relativity has developed into an essential tool in modern astrophysics. It provides the foundation for the current understanding of black holes, regions of space where the gravitational effect is strong enough that even light cannot escape. Their strong gravity is thought to be responsible for the intense radiation emitted by certain types of astronomical objects (such as active galactic nuclei or microquasars). General relativity is also part of the framework of the standard Big Bang model of cosmology.\\nAlthough general relativity is not the only relativistic theory of gravity, it is the simplest one that is consistent with the experimental data.  Nevertheless, a number of open questions remain, the most fundamental of which is how general relativity can be reconciled with the laws of quantum physics to produce a complete and self-consistent theory of quantum gravity.\\n\\n\",\n",
       "   'url': 'https://en.wikipedia.org/wiki/Introduction_to_general_relativity'},\n",
       "  0.9780281782150269),\n",
       " ({'title': 'General relativity',\n",
       "   'content': 'General relativity, also known as the general theory of relativity, and as Einstein\\'s theory of gravity, is the geometric theory of gravitation published by Albert Einstein in 1915 and is the current description of gravitation in modern physics. General relativity generalizes special relativity and refines Newton\\'s law of universal gravitation, providing a unified description of gravity as a geometric property of space and time, or four-dimensional spacetime. In particular, the curvature of spacetime is directly related to the energy and momentum of whatever is \\npresent matter and radiation. The relation is specified by the Einstein field equations, a system of second-order partial differential equations.\\nNewton\\'s law of universal gravitation, which describes classical gravity, can be seen as a prediction of general relativity for the almost flat spacetime geometry around stationary mass distributions. Some predictions of general relativity, however, are beyond Newton\\'s law of universal gravitation in classical physics. These predictions concern the passage of time, the geometry of space, the motion of bodies in free fall, and the propagation of light, and include gravitational time dilation, gravitational lensing, the gravitational redshift of light, the Shapiro time delay and singularities/black holes. So far, all tests of general relativity have been shown to be in agreement with the theory. The time-dependent solutions of general relativity enable us to talk about the history of the universe and have provided the modern framework for cosmology, thus leading to the discovery of the Big Bang and cosmic microwave background radiation. Despite the introduction of a number of alternative theories, general relativity continues to be the simplest theory consistent with experimental data.\\nReconciliation of general relativity with the laws of quantum physics remains a problem, however, as there is a lack of a self-consistent theory of quantum gravity. It is not yet known how gravity can be unified with the three non-gravitational forces: strong, weak and electromagnetic.\\nEinstein\\'s theory has astrophysical implications, including the prediction of black holes—regions of space in which space and time are distorted in such a way that nothing, not even light, can escape from them. Black holes are the end-state for massive stars. Microquasars and active galactic nuclei are believed to be stellar black holes and supermassive black holes. It also predicts gravitational lensing, where the bending of light results in multiple images of the same distant astronomical phenomenon. Other predictions include the existence of gravitational waves, which have been observed directly by the physics collaboration LIGO and other observatories. In addition, general relativity has provided the base of cosmological models of an expanding universe.\\nWidely acknowledged as a theory of extraordinary beauty, general relativity has often been described as the most beautiful of all existing physical theories.\\n\\n\\n== History ==\\n\\nHenri Poincaré\\'s 1905 theory of the dynamics of the electron was a relativistic theory which he applied to all forces, including gravity.  While others thought that gravity was instantaneous or of electromagnetic origin, he suggested that relativity was \"something due to our methods of measurement\". In his theory, he showed that gravitational waves propagate at the speed of light. Soon afterwards, Einstein started thinking about how to incorporate gravity into his relativistic framework. In 1907, beginning with a simple thought experiment involving an observer in free fall (FFO), he embarked on what would be an eight-year search for a relativistic theory of gravity. After numerous detours and false starts, his work culminated in the presentation to the Prussian Academy of Science in November 1915 of what are now known as the Einstein field equations, which form the core of Einstein\\'s general theory of relativity. These equations specify how',\n",
       "   'summary': \"General relativity, also known as the general theory of relativity, and as Einstein's theory of gravity, is the geometric theory of gravitation published by Albert Einstein in 1915 and is the current description of gravitation in modern physics. General relativity generalizes special relativity and refines Newton's law of universal gravitation, providing a unified description of gravity as a geometric property of space and time, or four-dimensional spacetime. In particular, the curvature of spacetime is directly related to the energy and momentum of whatever is \\npresent matter and radiation. The relation is specified by the Einstein field equations, a system of second-order partial differential equations.\\nNewton's law of universal gravitation, which describes classical gravity, can be seen as a prediction of general relativity for the almost flat spacetime geometry around stationary mass distributions. Some predictions of general relativity, however, are beyond Newton's law of universal gravitation in classical physics. These predictions concern the passage of time, the geometry of space, the motion of bodies in free fall, and the propagation of light, and include gravitational time dilation, gravitational lensing, the gravitational redshift of light, the Shapiro time delay and singularities/black holes. So far, all tests of general relativity have been shown to be in agreement with the theory. The time-dependent solutions of general relativity enable us to talk about the history of the universe and have provided the modern framework for cosmology, thus leading to the discovery of the Big Bang and cosmic microwave background radiation. Despite the introduction of a number of alternative theories, general relativity continues to be the simplest theory consistent with experimental data.\\nReconciliation of general relativity with the laws of quantum physics remains a problem, however, as there is a lack of a self-consistent theory of quantum gravity. It is not yet known how gravity can be unified with the three non-gravitational forces: strong, weak and electromagnetic.\\nEinstein's theory has astrophysical implications, including the prediction of black holes—regions of space in which space and time are distorted in such a way that nothing, not even light, can escape from them. Black holes are the end-state for massive stars. Microquasars and active galactic nuclei are believed to be stellar black holes and supermassive black holes. It also predicts gravitational lensing, where the bending of light results in multiple images of the same distant astronomical phenomenon. Other predictions include the existence of gravitational waves, which have been observed directly by the physics collaboration LIGO and other observatories. In addition, general relativity has provided the base of cosmological models of an expanding universe.\\nWidely acknowledged as a theory of extraordinary beauty, general relativity has often been described as the most beautiful of all existing physical theories.\",\n",
       "   'url': 'https://en.wikipedia.org/wiki/General_relativity'},\n",
       "  0.9674431085586548),\n",
       " ({'title': 'Tests of general relativity',\n",
       "   'content': 'Tests of general relativity serve to establish observational evidence for the theory of general relativity. The first three tests, proposed by Albert Einstein in 1915, concerned the \"anomalous\" precession of the perihelion of Mercury, the bending of light in gravitational fields, and the gravitational redshift. The precession of Mercury was already known; experiments showing light bending in accordance with the predictions of general relativity were performed in 1919, with increasingly precise measurements made in subsequent tests; and scientists claimed to have measured the gravitational redshift in 1925, although measurements sensitive enough to actually confirm the theory were not made until 1954. A more accurate program starting in 1959 tested general relativity in the weak gravitational field limit, severely limiting possible deviations from the theory.\\nIn the 1970s, scientists began to make additional tests, starting with Irwin Shapiro\\'s measurement of the relativistic time delay in radar signal travel time near the Sun. Beginning in 1974, Hulse, Taylor and others studied the behaviour of binary pulsars experiencing much stronger gravitational fields than those found in the Solar System. Both in the weak field limit (as in the Solar System) and with the stronger fields present in systems of binary pulsars the predictions of general relativity have been extremely well tested.\\nIn February 2016, the Advanced LIGO team announced that they had directly detected gravitational waves from a black hole merger. This discovery, along with additional detections announced in June 2016 and June 2017, tested general relativity in the very strong field limit, observing to date no deviations from theory.\\n\\n\\n== Classical tests ==\\nAlbert Einstein proposed three tests of general relativity, subsequently called the \"classical tests\" of general relativity, in 1916:\\n\\nthe perihelion precession of Mercury\\'s orbit\\nthe deflection of light by the Sun\\nthe gravitational redshift of light\\nIn the letter to The Times (of London) on November 28, 1919, he described the theory of relativity and thanked his English colleagues for their understanding and testing of his work. He also mentioned three classical tests with comments:\\n\\n\"The chief attraction of the theory lies in its logical completeness. If a single one of the conclusions drawn from it proves wrong, it must be given up; to modify it without destroying the whole structure seems to be impossible.\"\\n\\n\\n=== Perihelion precession of Mercury ===\\n\\nUnder Newtonian physics, an object in an (isolated) two-body system, consisting of the object orbiting a spherical mass, would trace out an ellipse with the center of mass of the system at a focus of the ellipse. The point of closest approach, called the periapsis (or when the central body is the Sun, perihelion), is fixed. Hence the major axis of the ellipse remains fixed in space. Both objects orbit around the center of mass of this system, so they each have their own ellipse. However, a number of effects in the Solar System cause the perihelia of planets to precess (rotate) around the Sun in the plane of their orbits, or equivalently, cause the major axis to rotate about the center of mass, hence changing its orientation in space. The principal cause is the presence of other planets which perturb one another\\'s orbit. Another (much less significant) effect is solar oblateness.\\nMercury deviates from the precession predicted from these Newtonian effects. This anomalous rate of precession of the perihelion of Mercury\\'s orbit was first recognized in 1859 as a problem in celestial mechanics, by Urbain Le Verrier. His re-analysis of available timed observations of transits of Mercury over the Sun\\'s disk from 1697 to 1848 showed that the actual rate of the precession disagreed from that predicted from Newton\\'s theory by 38″ (arcseconds) per tropical century (later re-estimated at 43″ by Simon Newcomb in 1882). A number of ad hoc and ultimately unsuccessful solutions we',\n",
       "   'summary': 'Tests of general relativity serve to establish observational evidence for the theory of general relativity. The first three tests, proposed by Albert Einstein in 1915, concerned the \"anomalous\" precession of the perihelion of Mercury, the bending of light in gravitational fields, and the gravitational redshift. The precession of Mercury was already known; experiments showing light bending in accordance with the predictions of general relativity were performed in 1919, with increasingly precise measurements made in subsequent tests; and scientists claimed to have measured the gravitational redshift in 1925, although measurements sensitive enough to actually confirm the theory were not made until 1954. A more accurate program starting in 1959 tested general relativity in the weak gravitational field limit, severely limiting possible deviations from the theory.\\nIn the 1970s, scientists began to make additional tests, starting with Irwin Shapiro\\'s measurement of the relativistic time delay in radar signal travel time near the Sun. Beginning in 1974, Hulse, Taylor and others studied the behaviour of binary pulsars experiencing much stronger gravitational fields than those found in the Solar System. Both in the weak field limit (as in the Solar System) and with the stronger fields present in systems of binary pulsars the predictions of general relativity have been extremely well tested.\\nIn February 2016, the Advanced LIGO team announced that they had directly detected gravitational waves from a black hole merger. This discovery, along with additional detections announced in June 2016 and June 2017, tested general relativity in the very strong field limit, observing to date no deviations from theory.',\n",
       "   'url': 'https://en.wikipedia.org/wiki/Tests_of_general_relativity'},\n",
       "  0.9309172630310059)]"
      ]
     },
     "execution_count": 17,
     "metadata": {},
     "output_type": "execute_result"
    }
   ],
   "source": [
    "root_prompt = 'Which physicist developed the theory of general relativity, fundamentally altering our understanding of gravity?'\n",
    "wiki_data = rag.retrieve_wiki_data_2(root_prompt)\n",
    "contriever_closest_matches = rag.find_top3_contriever_matches(\n",
    "    wiki_data=wiki_data, prompt=root_prompt\n",
    ")\n",
    "contriever_closest_matches"
   ]
  },
  {
   "cell_type": "code",
   "execution_count": 18,
   "metadata": {},
   "outputs": [],
   "source": [
    "contriever_response = rag.format_topk_wiki_answer(\n",
    "    root_prompt,\n",
    "    contriever_closest_matches\n",
    ")"
   ]
  },
  {
   "cell_type": "code",
   "execution_count": 20,
   "metadata": {},
   "outputs": [
    {
     "name": "stdout",
     "output_type": "stream",
     "text": [
      "Albert Einstein \n",
      "\n"
     ]
    }
   ],
   "source": [
    "semantic_adapter = SemanticAdapter(model)\n",
    "answer = semantic_adapter.wiki_rag_completions('a', contriever_response, root_prompt)\n",
    "print(answer)"
   ]
  }
 ],
 "metadata": {
  "kernelspec": {
   "display_name": "lex-eval",
   "language": "python",
   "name": "python3"
  },
  "language_info": {
   "codemirror_mode": {
    "name": "ipython",
    "version": 3
   },
   "file_extension": ".py",
   "mimetype": "text/x-python",
   "name": "python",
   "nbconvert_exporter": "python",
   "pygments_lexer": "ipython3",
   "version": "3.12.3"
  }
 },
 "nbformat": 4,
 "nbformat_minor": 2
}
